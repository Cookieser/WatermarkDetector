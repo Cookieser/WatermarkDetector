{
 "cells": [
  {
   "cell_type": "code",
   "execution_count": 110,
   "metadata": {},
   "outputs": [],
   "source": [
    "import clip\n",
    "import torch\n",
    "import torch.nn.functional as F\n",
    "from torchvision import transforms\n",
    "from torchvision.utils import save_image\n",
    "from PIL import Image\n",
    "import matplotlib.pyplot as plt\n",
    "from forgery import *\n",
    "from torchvision.utils import save_image\n",
    "import torch.nn as nn\n",
    "import numpy as np\n",
    "from types import SimpleNamespace\n",
    "from stable_signature_util import *"
   ]
  },
  {
   "cell_type": "code",
   "execution_count": 111,
   "metadata": {},
   "outputs": [
    {
     "data": {
      "text/plain": [
       "1.0"
      ]
     },
     "execution_count": 111,
     "metadata": {},
     "output_type": "execute_result"
    }
   ],
   "source": [
    "msg_extractor = torch.jit.load(\"models/dec_48b_whit.torchscript.pt\").to(\"cuda\")\n",
    "key = '111010110101000001010111010011010100010000100111' \n",
    "\n",
    "orig_path = \"/work/forgery/Data/StableSignature2/watermarked/img_5976.png\"\n",
    "to_tensor = transforms.Compose([\n",
    "    transforms.ToTensor(),  \n",
    "])\n",
    "\n",
    "img = to_tensor(Image.open(orig_path)).unsqueeze(0).float()\n",
    "mes = watermark_decoder(msg_extractor,img)\n",
    "computer_acc(mes,key)"
   ]
  },
  {
   "cell_type": "code",
   "execution_count": 112,
   "metadata": {},
   "outputs": [
    {
     "data": {
      "text/plain": [
       "<All keys matched successfully>"
      ]
     },
     "execution_count": 112,
     "metadata": {},
     "output_type": "execute_result"
    }
   ],
   "source": [
    "from hidden.models import HiddenDecoder\n",
    "# print(msg_extractor)\n",
    "decoder = HiddenDecoder(num_blocks=8, num_bits=48, channels=64).cuda()\n",
    "\n",
    "# 提取第一个子模块（HiddenDecoder）\n",
    "hidden_decoder_jit = list(msg_extractor.children())[0]\n",
    "\n",
    "# 提取其权重\n",
    "state_dict = hidden_decoder_jit.state_dict()\n",
    "\n",
    "# 加载进你定义的 decoder\n",
    "decoder.load_state_dict(state_dict, strict=True)\n",
    "\n",
    "\n",
    "linear_head_jit = list(msg_extractor.children())[1]  # 是一个 Linear(48, 48)\n",
    "\n",
    "# 构建对应结构\n",
    "linear_head = nn.Linear(48, 48).cuda()\n",
    "\n",
    "# 加载权重\n",
    "linear_head.load_state_dict(linear_head_jit.state_dict(), strict=True)"
   ]
  },
  {
   "cell_type": "code",
   "execution_count": 113,
   "metadata": {},
   "outputs": [
    {
     "name": "stdout",
     "output_type": "stream",
     "text": [
      "1.0\n",
      "0.9791666666666666\n"
     ]
    }
   ],
   "source": [
    "msg_extractor.eval()\n",
    "full_model.eval()\n",
    "with torch.no_grad():\n",
    "    mes = watermark_decoder(msg_extractor,img)\n",
    "    print(computer_acc(mes,key))\n",
    "with torch.no_grad():\n",
    "    full_model = nn.Sequential(decoder, linear_head).cuda()\n",
    "    output = watermark_decoder(full_model,img)\n",
    "    acc = computer_acc(output,key)\n",
    "    print(acc)"
   ]
  }
 ],
 "metadata": {
  "kernelspec": {
   "display_name": "forgery-watermark",
   "language": "python",
   "name": "python3"
  },
  "language_info": {
   "codemirror_mode": {
    "name": "ipython",
    "version": 3
   },
   "file_extension": ".py",
   "mimetype": "text/x-python",
   "name": "python",
   "nbconvert_exporter": "python",
   "pygments_lexer": "ipython3",
   "version": "3.8.19"
  }
 },
 "nbformat": 4,
 "nbformat_minor": 2
}
