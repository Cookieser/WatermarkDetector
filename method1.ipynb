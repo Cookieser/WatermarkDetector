{
 "cells": [
  {
   "cell_type": "code",
   "execution_count": 1,
   "metadata": {},
   "outputs": [],
   "source": [
    "import clip\n",
    "import torch\n",
    "import torch.nn.functional as F\n",
    "from torchvision import transforms\n",
    "from torchvision.utils import save_image\n",
    "from PIL import Image\n",
    "import matplotlib.pyplot as plt\n",
    "from forgery import *\n",
    "from torchvision.utils import save_image\n",
    "import torch.nn as nn\n",
    "import numpy as np\n",
    "from types import SimpleNamespace\n",
    "\n",
    "\n",
    "\n",
    "import torch\n",
    "import torch.nn as nn\n",
    "from torchvision import models, transforms\n",
    "from PIL import Image\n",
    "import os\n",
    "\n",
    "device = torch.device(\"cuda\" if torch.cuda.is_available() else \"cpu\")\n"
   ]
  },
  {
   "cell_type": "code",
   "execution_count": 2,
   "metadata": {},
   "outputs": [
    {
     "name": "stderr",
     "output_type": "stream",
     "text": [
      "/home/yw699/anaconda3/envs/forgery-watermark/lib/python3.8/site-packages/torchvision/models/_utils.py:208: UserWarning: The parameter 'pretrained' is deprecated since 0.13 and may be removed in the future, please use 'weights' instead.\n",
      "  warnings.warn(\n",
      "/home/yw699/anaconda3/envs/forgery-watermark/lib/python3.8/site-packages/torchvision/models/_utils.py:223: UserWarning: Arguments other than a weight enum or `None` for 'weights' are deprecated since 0.13 and may be removed in the future. The current behavior is equivalent to passing `weights=None`.\n",
      "  warnings.warn(msg)\n",
      "/tmp/ipykernel_3000248/3509398222.py:5: FutureWarning: You are using `torch.load` with `weights_only=False` (the current default value), which uses the default pickle module implicitly. It is possible to construct malicious pickle data which will execute arbitrary code during unpickling (See https://github.com/pytorch/pytorch/blob/main/SECURITY.md#untrusted-models for more details). In a future release, the default value for `weights_only` will be flipped to `True`. This limits the functions that could be executed during unpickling. Arbitrary objects will no longer be allowed to be loaded via this mode unless they are explicitly allowlisted by the user via `torch.serialization.add_safe_globals`. We recommend you start setting `weights_only=True` for any use case where you don't have full control of the loaded file. Please open an issue on GitHub for any issues related to this experimental feature.\n",
      "  model = torch.load('res/resnet18_watermark_classifier_full_99.pth', map_location=device)\n"
     ]
    },
    {
     "data": {
      "text/plain": [
       "ResNet(\n",
       "  (conv1): Conv2d(3, 64, kernel_size=(7, 7), stride=(2, 2), padding=(3, 3), bias=False)\n",
       "  (bn1): BatchNorm2d(64, eps=1e-05, momentum=0.1, affine=True, track_running_stats=True)\n",
       "  (relu): ReLU(inplace=True)\n",
       "  (maxpool): MaxPool2d(kernel_size=3, stride=2, padding=1, dilation=1, ceil_mode=False)\n",
       "  (layer1): Sequential(\n",
       "    (0): BasicBlock(\n",
       "      (conv1): Conv2d(64, 64, kernel_size=(3, 3), stride=(1, 1), padding=(1, 1), bias=False)\n",
       "      (bn1): BatchNorm2d(64, eps=1e-05, momentum=0.1, affine=True, track_running_stats=True)\n",
       "      (relu): ReLU(inplace=True)\n",
       "      (conv2): Conv2d(64, 64, kernel_size=(3, 3), stride=(1, 1), padding=(1, 1), bias=False)\n",
       "      (bn2): BatchNorm2d(64, eps=1e-05, momentum=0.1, affine=True, track_running_stats=True)\n",
       "    )\n",
       "    (1): BasicBlock(\n",
       "      (conv1): Conv2d(64, 64, kernel_size=(3, 3), stride=(1, 1), padding=(1, 1), bias=False)\n",
       "      (bn1): BatchNorm2d(64, eps=1e-05, momentum=0.1, affine=True, track_running_stats=True)\n",
       "      (relu): ReLU(inplace=True)\n",
       "      (conv2): Conv2d(64, 64, kernel_size=(3, 3), stride=(1, 1), padding=(1, 1), bias=False)\n",
       "      (bn2): BatchNorm2d(64, eps=1e-05, momentum=0.1, affine=True, track_running_stats=True)\n",
       "    )\n",
       "  )\n",
       "  (layer2): Sequential(\n",
       "    (0): BasicBlock(\n",
       "      (conv1): Conv2d(64, 128, kernel_size=(3, 3), stride=(2, 2), padding=(1, 1), bias=False)\n",
       "      (bn1): BatchNorm2d(128, eps=1e-05, momentum=0.1, affine=True, track_running_stats=True)\n",
       "      (relu): ReLU(inplace=True)\n",
       "      (conv2): Conv2d(128, 128, kernel_size=(3, 3), stride=(1, 1), padding=(1, 1), bias=False)\n",
       "      (bn2): BatchNorm2d(128, eps=1e-05, momentum=0.1, affine=True, track_running_stats=True)\n",
       "      (downsample): Sequential(\n",
       "        (0): Conv2d(64, 128, kernel_size=(1, 1), stride=(2, 2), bias=False)\n",
       "        (1): BatchNorm2d(128, eps=1e-05, momentum=0.1, affine=True, track_running_stats=True)\n",
       "      )\n",
       "    )\n",
       "    (1): BasicBlock(\n",
       "      (conv1): Conv2d(128, 128, kernel_size=(3, 3), stride=(1, 1), padding=(1, 1), bias=False)\n",
       "      (bn1): BatchNorm2d(128, eps=1e-05, momentum=0.1, affine=True, track_running_stats=True)\n",
       "      (relu): ReLU(inplace=True)\n",
       "      (conv2): Conv2d(128, 128, kernel_size=(3, 3), stride=(1, 1), padding=(1, 1), bias=False)\n",
       "      (bn2): BatchNorm2d(128, eps=1e-05, momentum=0.1, affine=True, track_running_stats=True)\n",
       "    )\n",
       "  )\n",
       "  (layer3): Sequential(\n",
       "    (0): BasicBlock(\n",
       "      (conv1): Conv2d(128, 256, kernel_size=(3, 3), stride=(2, 2), padding=(1, 1), bias=False)\n",
       "      (bn1): BatchNorm2d(256, eps=1e-05, momentum=0.1, affine=True, track_running_stats=True)\n",
       "      (relu): ReLU(inplace=True)\n",
       "      (conv2): Conv2d(256, 256, kernel_size=(3, 3), stride=(1, 1), padding=(1, 1), bias=False)\n",
       "      (bn2): BatchNorm2d(256, eps=1e-05, momentum=0.1, affine=True, track_running_stats=True)\n",
       "      (downsample): Sequential(\n",
       "        (0): Conv2d(128, 256, kernel_size=(1, 1), stride=(2, 2), bias=False)\n",
       "        (1): BatchNorm2d(256, eps=1e-05, momentum=0.1, affine=True, track_running_stats=True)\n",
       "      )\n",
       "    )\n",
       "    (1): BasicBlock(\n",
       "      (conv1): Conv2d(256, 256, kernel_size=(3, 3), stride=(1, 1), padding=(1, 1), bias=False)\n",
       "      (bn1): BatchNorm2d(256, eps=1e-05, momentum=0.1, affine=True, track_running_stats=True)\n",
       "      (relu): ReLU(inplace=True)\n",
       "      (conv2): Conv2d(256, 256, kernel_size=(3, 3), stride=(1, 1), padding=(1, 1), bias=False)\n",
       "      (bn2): BatchNorm2d(256, eps=1e-05, momentum=0.1, affine=True, track_running_stats=True)\n",
       "    )\n",
       "  )\n",
       "  (layer4): Sequential(\n",
       "    (0): BasicBlock(\n",
       "      (conv1): Conv2d(256, 512, kernel_size=(3, 3), stride=(2, 2), padding=(1, 1), bias=False)\n",
       "      (bn1): BatchNorm2d(512, eps=1e-05, momentum=0.1, affine=True, track_running_stats=True)\n",
       "      (relu): ReLU(inplace=True)\n",
       "      (conv2): Conv2d(512, 512, kernel_size=(3, 3), stride=(1, 1), padding=(1, 1), bias=False)\n",
       "      (bn2): BatchNorm2d(512, eps=1e-05, momentum=0.1, affine=True, track_running_stats=True)\n",
       "      (downsample): Sequential(\n",
       "        (0): Conv2d(256, 512, kernel_size=(1, 1), stride=(2, 2), bias=False)\n",
       "        (1): BatchNorm2d(512, eps=1e-05, momentum=0.1, affine=True, track_running_stats=True)\n",
       "      )\n",
       "    )\n",
       "    (1): BasicBlock(\n",
       "      (conv1): Conv2d(512, 512, kernel_size=(3, 3), stride=(1, 1), padding=(1, 1), bias=False)\n",
       "      (bn1): BatchNorm2d(512, eps=1e-05, momentum=0.1, affine=True, track_running_stats=True)\n",
       "      (relu): ReLU(inplace=True)\n",
       "      (conv2): Conv2d(512, 512, kernel_size=(3, 3), stride=(1, 1), padding=(1, 1), bias=False)\n",
       "      (bn2): BatchNorm2d(512, eps=1e-05, momentum=0.1, affine=True, track_running_stats=True)\n",
       "    )\n",
       "  )\n",
       "  (avgpool): AdaptiveAvgPool2d(output_size=(1, 1))\n",
       "  (fc): Linear(in_features=512, out_features=2, bias=True)\n",
       ")"
      ]
     },
     "execution_count": 2,
     "metadata": {},
     "output_type": "execute_result"
    }
   ],
   "source": [
    "\n",
    "model = models.resnet18(pretrained=False)\n",
    "model.fc = nn.Linear(model.fc.in_features, 2)\n",
    "model = model.to(device)\n",
    "\n",
    "model = torch.load('res/resnet18_watermark_classifier_full_99.pth', map_location=device)\n",
    "model = model.to(device)\n",
    "model.eval()"
   ]
  },
  {
   "cell_type": "code",
   "execution_count": 14,
   "metadata": {},
   "outputs": [],
   "source": [
    "transform = transforms.Compose([\n",
    "    transforms.Resize((224, 224)),\n",
    "    transforms.ToTensor(),\n",
    "    transforms.Normalize(mean=[0.485, 0.456, 0.406],\n",
    "                         std=[0.229, 0.224, 0.225])\n",
    "])"
   ]
  },
  {
   "cell_type": "code",
   "execution_count": 15,
   "metadata": {},
   "outputs": [],
   "source": [
    "def predict_image(image_path):\n",
    "    image = Image.open(image_path).convert(\"RGB\")\n",
    "    image_tensor = transform(image).unsqueeze(0).to(device)\n",
    "\n",
    "    with torch.no_grad():\n",
    "        output = model(image_tensor)\n",
    "        pred = output.argmax(dim=1).item()\n",
    "    \n",
    "    label_map = {0: \"Original\", 1: \"Watermarked\"}\n",
    "    return label_map[pred]\n",
    "\n"
   ]
  },
  {
   "cell_type": "code",
   "execution_count": 16,
   "metadata": {},
   "outputs": [
    {
     "name": "stdout",
     "output_type": "stream",
     "text": [
      "Prediction: Original\n",
      "Prediction: Watermarked\n"
     ]
    }
   ],
   "source": [
    "original_path = \"/work/forgery/Data/StableSignature/original/img_0001.png\"\n",
    "result = predict_image(original_path)\n",
    "print(f\"Prediction: {result}\")\n",
    "\n",
    "watermarked_path = \"/work/forgery/Data/StableSignature/watermarked/img_0001.png\"\n",
    "result = predict_image(watermarked_path)\n",
    "print(f\"Prediction: {result}\")"
   ]
  },
  {
   "cell_type": "markdown",
   "metadata": {},
   "source": [
    "### show the difference between original and watermark image in the Classifier view"
   ]
  },
  {
   "cell_type": "code",
   "execution_count": 6,
   "metadata": {},
   "outputs": [],
   "source": [
    "class ResNetFeatureExtractor(nn.Module):\n",
    "    def __init__(self, model):\n",
    "        super().__init__()\n",
    "        # 去掉最后的分类层，只保留 feature extractor 部分\n",
    "        self.features = nn.Sequential(*list(model.children())[:-1])  # 去掉 fc 层\n",
    "\n",
    "    def forward(self, x):\n",
    "        x = self.features(x)  # [B, 512, 1, 1]\n",
    "        return x.view(x.size(0), -1)  # flatten to [B, 512]"
   ]
  },
  {
   "cell_type": "code",
   "execution_count": 7,
   "metadata": {},
   "outputs": [],
   "source": [
    "feature_extractor = ResNetFeatureExtractor(model).to(device)\n",
    "feature_extractor.eval()\n",
    "def compare_resnet_feature_distance(img1, img2):\n",
    "    img1_tensor = transform(img1).unsqueeze(0).to(device)\n",
    "    img2_tensor = transform(img2).unsqueeze(0).to(device)\n",
    "\n",
    "    with torch.no_grad():\n",
    "        feat1 = feature_extractor(img1_tensor)\n",
    "        feat2 = feature_extractor(img2_tensor)\n",
    "\n",
    "    # 计算 cosine 和 L2 距离\n",
    "    cosine_sim = F.cosine_similarity(feat1, feat2).item()\n",
    "    l2_dist = torch.norm(feat1 - feat2).item()\n",
    "\n",
    "    print(f\"[ResNet18 分类器] Cosine similarity: {cosine_sim:.4f}\")\n",
    "    print(f\"[ResNet18 分类器] L2 distance: {l2_dist:.4f}\")\n",
    "    return cosine_sim, l2_dist"
   ]
  },
  {
   "cell_type": "code",
   "execution_count": 8,
   "metadata": {},
   "outputs": [
    {
     "name": "stdout",
     "output_type": "stream",
     "text": [
      "[ResNet18 分类器] Cosine similarity: 0.9386\n",
      "[ResNet18 分类器] L2 distance: 26.8856\n"
     ]
    },
    {
     "data": {
      "text/plain": [
       "(0.9386321902275085, 26.88560676574707)"
      ]
     },
     "execution_count": 8,
     "metadata": {},
     "output_type": "execute_result"
    }
   ],
   "source": [
    "img1 = Image.open(original_path).convert(\"RGB\")\n",
    "img2 = Image.open(watermarked_path).convert(\"RGB\")\n",
    "\n",
    "compare_resnet_feature_distance(img1, img2)"
   ]
  },
  {
   "cell_type": "code",
   "execution_count": 9,
   "metadata": {},
   "outputs": [],
   "source": [
    "def denormalize(t):\n",
    "    mean = torch.tensor([0.485, 0.456, 0.406], device=t.device).view(1, 3, 1, 1)\n",
    "    std = torch.tensor([0.229, 0.224, 0.225], device=t.device).view(1, 3, 1, 1)\n",
    "    return torch.clamp(t * std + mean, 0, 1)"
   ]
  },
  {
   "cell_type": "markdown",
   "metadata": {},
   "source": [
    "For CLIP:\n",
    "\n",
    "l2_dist:1.3796164989471436 "
   ]
  },
  {
   "cell_type": "code",
   "execution_count": 10,
   "metadata": {},
   "outputs": [
    {
     "name": "stdout",
     "output_type": "stream",
     "text": [
      "iter:0    loss:6.4103  P(cls=1):0.000 watermark_acc:0.562500\n",
      "iter:1    loss:6.2200  P(cls=1):0.000 watermark_acc:0.562500\n",
      "iter:2    loss:6.0322  P(cls=1):0.000 watermark_acc:0.562500\n",
      "iter:3    loss:5.8439  P(cls=1):0.000 watermark_acc:0.562500\n",
      "iter:4    loss:5.6597  P(cls=1):0.000 watermark_acc:0.562500\n",
      "iter:5    loss:5.4785  P(cls=1):0.000 watermark_acc:0.562500\n",
      "iter:6    loss:5.3040  P(cls=1):0.000 watermark_acc:0.562500\n",
      "iter:7    loss:5.1357  P(cls=1):0.000 watermark_acc:0.562500\n",
      "iter:8    loss:4.9729  P(cls=1):0.000 watermark_acc:0.562500\n",
      "iter:9    loss:4.8132  P(cls=1):0.000 watermark_acc:0.562500\n",
      "iter:10   loss:4.6543  P(cls=1):0.000 watermark_acc:0.562500\n",
      "iter:11   loss:4.4968  P(cls=1):0.000 watermark_acc:0.562500\n",
      "iter:12   loss:4.3441  P(cls=1):0.000 watermark_acc:0.562500\n",
      "iter:13   loss:4.1950  P(cls=1):0.000 watermark_acc:0.562500\n",
      "iter:14   loss:4.0498  P(cls=1):0.000 watermark_acc:0.562500\n",
      "iter:15   loss:3.9043  P(cls=1):0.000 watermark_acc:0.562500\n",
      "iter:16   loss:3.7584  P(cls=1):0.000 watermark_acc:0.562500\n",
      "iter:17   loss:3.6137  P(cls=1):0.000 watermark_acc:0.562500\n",
      "iter:18   loss:3.4718  P(cls=1):0.000 watermark_acc:0.562500\n",
      "iter:19   loss:3.3303  P(cls=1):0.000 watermark_acc:0.562500\n",
      "iter:20   loss:3.1875  P(cls=1):0.000 watermark_acc:0.562500\n",
      "iter:21   loss:3.0458  P(cls=1):0.000 watermark_acc:0.562500\n",
      "iter:22   loss:2.9047  P(cls=1):0.000 watermark_acc:0.562500\n",
      "iter:23   loss:2.7661  P(cls=1):0.000 watermark_acc:0.562500\n",
      "iter:24   loss:2.6333  P(cls=1):0.000 watermark_acc:0.562500\n",
      "iter:25   loss:2.5047  P(cls=1):0.000 watermark_acc:0.562500\n",
      "iter:26   loss:2.3804  P(cls=1):0.000 watermark_acc:0.562500\n",
      "iter:27   loss:2.2572  P(cls=1):0.000 watermark_acc:0.562500\n",
      "iter:28   loss:2.1381  P(cls=1):0.000 watermark_acc:0.562500\n",
      "iter:29   loss:2.0239  P(cls=1):0.000 watermark_acc:0.562500\n",
      "iter:30   loss:1.9148  P(cls=1):0.000 watermark_acc:0.562500\n",
      "iter:31   loss:1.8101  P(cls=1):0.000 watermark_acc:0.562500\n",
      "iter:32   loss:1.7090  P(cls=1):0.000 watermark_acc:0.562500\n",
      "iter:33   loss:1.6113  P(cls=1):0.000 watermark_acc:0.562500\n",
      "iter:34   loss:1.5189  P(cls=1):0.000 watermark_acc:0.562500\n",
      "iter:35   loss:1.4311  P(cls=1):0.000 watermark_acc:0.562500\n",
      "iter:36   loss:1.3482  P(cls=1):0.000 watermark_acc:0.562500\n",
      "iter:37   loss:1.2707  P(cls=1):0.000 watermark_acc:0.562500\n",
      "iter:38   loss:1.1975  P(cls=1):0.000 watermark_acc:0.562500\n",
      "iter:39   loss:1.1287  P(cls=1):0.000 watermark_acc:0.562500\n",
      "iter:40   loss:1.0649  P(cls=1):0.000 watermark_acc:0.562500\n",
      "iter:41   loss:1.0053  P(cls=1):0.000 watermark_acc:0.562500\n",
      "iter:42   loss:0.9499  P(cls=1):0.000 watermark_acc:0.562500\n",
      "iter:43   loss:0.8986  P(cls=1):0.000 watermark_acc:0.562500\n",
      "iter:44   loss:0.8510  P(cls=1):0.000 watermark_acc:0.562500\n",
      "iter:45   loss:0.8065  P(cls=1):0.000 watermark_acc:0.562500\n",
      "iter:46   loss:0.7652  P(cls=1):0.000 watermark_acc:0.562500\n",
      "iter:47   loss:0.7266  P(cls=1):0.000 watermark_acc:0.562500\n",
      "iter:48   loss:0.6907  P(cls=1):1.000 watermark_acc:0.562500\n",
      "iter:49   loss:0.6571  P(cls=1):1.000 watermark_acc:0.562500\n",
      "iter:50   loss:0.6258  P(cls=1):1.000 watermark_acc:0.562500\n",
      "iter:51   loss:0.5969  P(cls=1):1.000 watermark_acc:0.562500\n",
      "iter:52   loss:0.5700  P(cls=1):1.000 watermark_acc:0.562500\n",
      "iter:53   loss:0.5450  P(cls=1):1.000 watermark_acc:0.562500\n",
      "iter:54   loss:0.5216  P(cls=1):1.000 watermark_acc:0.562500\n",
      "iter:55   loss:0.4997  P(cls=1):1.000 watermark_acc:0.562500\n",
      "iter:56   loss:0.4793  P(cls=1):1.000 watermark_acc:0.562500\n",
      "iter:57   loss:0.4599  P(cls=1):1.000 watermark_acc:0.562500\n",
      "iter:58   loss:0.4418  P(cls=1):1.000 watermark_acc:0.562500\n",
      "iter:59   loss:0.4249  P(cls=1):1.000 watermark_acc:0.562500\n",
      "iter:60   loss:0.4089  P(cls=1):1.000 watermark_acc:0.562500\n",
      "iter:61   loss:0.3939  P(cls=1):1.000 watermark_acc:0.562500\n",
      "iter:62   loss:0.3798  P(cls=1):1.000 watermark_acc:0.562500\n",
      "iter:63   loss:0.3664  P(cls=1):1.000 watermark_acc:0.562500\n",
      "iter:64   loss:0.3538  P(cls=1):1.000 watermark_acc:0.562500\n",
      "iter:65   loss:0.3420  P(cls=1):1.000 watermark_acc:0.562500\n",
      "iter:66   loss:0.3309  P(cls=1):1.000 watermark_acc:0.562500\n",
      "iter:67   loss:0.3203  P(cls=1):1.000 watermark_acc:0.562500\n",
      "iter:68   loss:0.3104  P(cls=1):1.000 watermark_acc:0.562500\n",
      "iter:69   loss:0.3010  P(cls=1):1.000 watermark_acc:0.562500\n",
      "iter:70   loss:0.2921  P(cls=1):1.000 watermark_acc:0.562500\n",
      "iter:71   loss:0.2836  P(cls=1):1.000 watermark_acc:0.562500\n",
      "iter:72   loss:0.2755  P(cls=1):1.000 watermark_acc:0.562500\n",
      "iter:73   loss:0.2678  P(cls=1):1.000 watermark_acc:0.562500\n",
      "iter:74   loss:0.2606  P(cls=1):1.000 watermark_acc:0.562500\n",
      "iter:75   loss:0.2536  P(cls=1):1.000 watermark_acc:0.562500\n",
      "iter:76   loss:0.2470  P(cls=1):1.000 watermark_acc:0.562500\n",
      "iter:77   loss:0.2407  P(cls=1):1.000 watermark_acc:0.562500\n",
      "iter:78   loss:0.2346  P(cls=1):1.000 watermark_acc:0.562500\n",
      "iter:79   loss:0.2288  P(cls=1):1.000 watermark_acc:0.562500\n",
      "iter:80   loss:0.2232  P(cls=1):1.000 watermark_acc:0.562500\n",
      "iter:81   loss:0.2178  P(cls=1):1.000 watermark_acc:0.562500\n",
      "iter:82   loss:0.2127  P(cls=1):1.000 watermark_acc:0.562500\n",
      "iter:83   loss:0.2077  P(cls=1):1.000 watermark_acc:0.562500\n",
      "iter:84   loss:0.2030  P(cls=1):1.000 watermark_acc:0.562500\n",
      "iter:85   loss:0.1985  P(cls=1):1.000 watermark_acc:0.562500\n",
      "iter:86   loss:0.1942  P(cls=1):1.000 watermark_acc:0.562500\n",
      "iter:87   loss:0.1901  P(cls=1):1.000 watermark_acc:0.562500\n",
      "iter:88   loss:0.1861  P(cls=1):1.000 watermark_acc:0.562500\n",
      "iter:89   loss:0.1822  P(cls=1):1.000 watermark_acc:0.562500\n",
      "iter:90   loss:0.1786  P(cls=1):1.000 watermark_acc:0.562500\n",
      "iter:91   loss:0.1750  P(cls=1):1.000 watermark_acc:0.562500\n",
      "iter:92   loss:0.1716  P(cls=1):1.000 watermark_acc:0.562500\n",
      "iter:93   loss:0.1682  P(cls=1):1.000 watermark_acc:0.562500\n",
      "iter:94   loss:0.1650  P(cls=1):1.000 watermark_acc:0.562500\n",
      "iter:95   loss:0.1619  P(cls=1):1.000 watermark_acc:0.562500\n",
      "iter:96   loss:0.1589  P(cls=1):1.000 watermark_acc:0.562500\n",
      "iter:97   loss:0.1561  P(cls=1):1.000 watermark_acc:0.562500\n",
      "iter:98   loss:0.1533  P(cls=1):1.000 watermark_acc:0.562500\n",
      "iter:99   loss:0.1506  P(cls=1):1.000 watermark_acc:0.562500\n",
      "🖼️ forged_img.png saved.\n",
      "🖼️ original_img.png saved.\n"
     ]
    }
   ],
   "source": [
    "\n",
    "img1_tensor = transform(img1).unsqueeze(0).to(device)\n",
    "img2_tensor = transform(img2).unsqueeze(0).to(device)\n",
    "msg_extractor = torch.jit.load(\"models/dec_48b_whit.torchscript.pt\").to(\"cuda\")\n",
    "key = '111010110101000001010111010011010100010000100111' \n",
    "\n",
    "args = SimpleNamespace(\n",
    "    r=1,\n",
    "    lr=0.001,\n",
    "    epsilon=0.01,\n",
    "    iteration=100\n",
    ")\n",
    "\n",
    "criterion  = nn.CrossEntropyLoss()\n",
    "bit_acc_groundtruth, bound, success,adv_img,original,acc_list,diff_list =Forgery_no_box_classifier(img1_tensor, key, criterion, msg_extractor,model,args)\n",
    "\n",
    "save_image(denormalize(adv_img.cpu()), \"forged_img.png\")\n",
    "print(\"🖼️ forged_img.png saved.\")\n",
    "\n",
    "save_image(denormalize(original.cpu()), \"original_img.png\")\n",
    "print(\"🖼️ original_img.png saved.\")"
   ]
  },
  {
   "cell_type": "code",
   "execution_count": 11,
   "metadata": {},
   "outputs": [
    {
     "data": {
      "image/png": "[encoded data removed]",
      "text/plain": [
       "<Figure size 600x400 with 1 Axes>"
      ]
     },
     "metadata": {},
     "output_type": "display_data"
    },
    {
     "data": {
      "image/png": "[encoded data removed]",
      "text/plain": [
       "<Figure size 600x400 with 1 Axes>"
      ]
     },
     "metadata": {},
     "output_type": "display_data"
    }
   ],
   "source": [
    "import matplotlib.pyplot as plt\n",
    "# Feature Loss \n",
    "plt.figure(figsize=(6, 4))\n",
    "plt.plot(diff_list, label=\"Feature Loss\", color='orange', linewidth=2)\n",
    "plt.xlabel(\"Iteration\")\n",
    "plt.ylabel(\"Loss\")\n",
    "plt.title(\"Feature Loss over Iterations\")\n",
    "plt.grid(True)\n",
    "plt.legend()\n",
    "plt.show()\n",
    "\n",
    "# Bit Accuracy \n",
    "plt.figure(figsize=(6, 4))\n",
    "plt.plot(acc_list, label=\"Bit Accuracy\", linewidth=2)\n",
    "plt.xlabel(\"Iteration\")\n",
    "plt.ylabel(\"Accuracy\")\n",
    "plt.title(\"Bit Accuracy over Iterations\")\n",
    "plt.grid(True)\n",
    "plt.legend()\n",
    "plt.show()\n",
    "\n"
   ]
  },
  {
   "cell_type": "code",
   "execution_count": 17,
   "metadata": {},
   "outputs": [
    {
     "data": {
      "text/plain": [
       "0.5208333333333333"
      ]
     },
     "execution_count": 17,
     "metadata": {},
     "output_type": "execute_result"
    }
   ],
   "source": [
    "from stable_signature_util import *\n",
    "orig_path = \"forged_img.png\"\n",
    "to_tensor = transforms.Compose([\n",
    "    transforms.Resize((224, 224)),\n",
    "    transforms.ToTensor(),  \n",
    "])\n",
    "\n",
    "img = to_tensor(Image.open(orig_path)).unsqueeze(0).float()\n",
    "mes = watermark_decoder(msg_extractor,img)\n",
    "computer_acc(mes,key)"
   ]
  },
  {
   "cell_type": "code",
   "execution_count": null,
   "metadata": {},
   "outputs": [],
   "source": []
  },
  {
   "cell_type": "code",
   "execution_count": 18,
   "metadata": {},
   "outputs": [
    {
     "name": "stdout",
     "output_type": "stream",
     "text": [
      "Prediction: Original\n",
      "Prediction: Watermarked\n"
     ]
    }
   ],
   "source": [
    "original_path = \"original_img.png\"\n",
    "result = predict_image(original_path)\n",
    "print(f\"Prediction: {result}\")\n",
    "\n",
    "forged_path = \"forged_img.png\"\n",
    "result = predict_image(watermarked_path)\n",
    "print(f\"Prediction: {result}\")"
   ]
  }
 ],
 "metadata": {
  "kernelspec": {
   "display_name": "forgery-watermark",
   "language": "python",
   "name": "python3"
  },
  "language_info": {
   "codemirror_mode": {
    "name": "ipython",
    "version": 3
   },
   "file_extension": ".py",
   "mimetype": "text/x-python",
   "name": "python",
   "nbconvert_exporter": "python",
   "pygments_lexer": "ipython3",
   "version": "3.8.19"
  }
 },
 "nbformat": 4,
 "nbformat_minor": 2
}
