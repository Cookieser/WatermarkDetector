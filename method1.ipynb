{
 "cells": [
  {
   "cell_type": "code",
   "execution_count": 1,
   "metadata": {},
   "outputs": [],
   "source": [
    "import clip\n",
    "import torch\n",
    "import torch.nn.functional as F\n",
    "from torchvision import transforms\n",
    "from torchvision.utils import save_image\n",
    "from PIL import Image\n",
    "import matplotlib.pyplot as plt\n",
    "from forgery import *\n",
    "from torchvision.utils import save_image\n",
    "import torch.nn as nn\n",
    "import numpy as np\n",
    "from types import SimpleNamespace\n",
    "\n",
    "\n",
    "\n",
    "import torch\n",
    "import torch.nn as nn\n",
    "from torchvision import models, transforms\n",
    "from PIL import Image\n",
    "import os\n",
    "\n",
    "device = torch.device(\"cuda\" if torch.cuda.is_available() else \"cpu\")\n"
   ]
  },
  {
   "cell_type": "code",
   "execution_count": 2,
   "metadata": {},
   "outputs": [
    {
     "name": "stderr",
     "output_type": "stream",
     "text": [
      "/home/yw699/anaconda3/envs/forgery-watermark/lib/python3.8/site-packages/torchvision/models/_utils.py:208: UserWarning: The parameter 'pretrained' is deprecated since 0.13 and may be removed in the future, please use 'weights' instead.\n",
      "  warnings.warn(\n",
      "/home/yw699/anaconda3/envs/forgery-watermark/lib/python3.8/site-packages/torchvision/models/_utils.py:223: UserWarning: Arguments other than a weight enum or `None` for 'weights' are deprecated since 0.13 and may be removed in the future. The current behavior is equivalent to passing `weights=None`.\n",
      "  warnings.warn(msg)\n",
      "/tmp/ipykernel_1719383/4025428302.py:5: FutureWarning: You are using `torch.load` with `weights_only=False` (the current default value), which uses the default pickle module implicitly. It is possible to construct malicious pickle data which will execute arbitrary code during unpickling (See https://github.com/pytorch/pytorch/blob/main/SECURITY.md#untrusted-models for more details). In a future release, the default value for `weights_only` will be flipped to `True`. This limits the functions that could be executed during unpickling. Arbitrary objects will no longer be allowed to be loaded via this mode unless they are explicitly allowlisted by the user via `torch.serialization.add_safe_globals`. We recommend you start setting `weights_only=True` for any use case where you don't have full control of the loaded file. Please open an issue on GitHub for any issues related to this experimental feature.\n",
      "  model = torch.load('res/resnet18_watermark_classifier_full_20.pth', map_location=device)\n"
     ]
    },
    {
     "data": {
      "text/plain": [
       "ResNet(\n",
       "  (conv1): Conv2d(3, 64, kernel_size=(7, 7), stride=(2, 2), padding=(3, 3), bias=False)\n",
       "  (bn1): BatchNorm2d(64, eps=1e-05, momentum=0.1, affine=True, track_running_stats=True)\n",
       "  (relu): ReLU(inplace=True)\n",
       "  (maxpool): MaxPool2d(kernel_size=3, stride=2, padding=1, dilation=1, ceil_mode=False)\n",
       "  (layer1): Sequential(\n",
       "    (0): BasicBlock(\n",
       "      (conv1): Conv2d(64, 64, kernel_size=(3, 3), stride=(1, 1), padding=(1, 1), bias=False)\n",
       "      (bn1): BatchNorm2d(64, eps=1e-05, momentum=0.1, affine=True, track_running_stats=True)\n",
       "      (relu): ReLU(inplace=True)\n",
       "      (conv2): Conv2d(64, 64, kernel_size=(3, 3), stride=(1, 1), padding=(1, 1), bias=False)\n",
       "      (bn2): BatchNorm2d(64, eps=1e-05, momentum=0.1, affine=True, track_running_stats=True)\n",
       "    )\n",
       "    (1): BasicBlock(\n",
       "      (conv1): Conv2d(64, 64, kernel_size=(3, 3), stride=(1, 1), padding=(1, 1), bias=False)\n",
       "      (bn1): BatchNorm2d(64, eps=1e-05, momentum=0.1, affine=True, track_running_stats=True)\n",
       "      (relu): ReLU(inplace=True)\n",
       "      (conv2): Conv2d(64, 64, kernel_size=(3, 3), stride=(1, 1), padding=(1, 1), bias=False)\n",
       "      (bn2): BatchNorm2d(64, eps=1e-05, momentum=0.1, affine=True, track_running_stats=True)\n",
       "    )\n",
       "  )\n",
       "  (layer2): Sequential(\n",
       "    (0): BasicBlock(\n",
       "      (conv1): Conv2d(64, 128, kernel_size=(3, 3), stride=(2, 2), padding=(1, 1), bias=False)\n",
       "      (bn1): BatchNorm2d(128, eps=1e-05, momentum=0.1, affine=True, track_running_stats=True)\n",
       "      (relu): ReLU(inplace=True)\n",
       "      (conv2): Conv2d(128, 128, kernel_size=(3, 3), stride=(1, 1), padding=(1, 1), bias=False)\n",
       "      (bn2): BatchNorm2d(128, eps=1e-05, momentum=0.1, affine=True, track_running_stats=True)\n",
       "      (downsample): Sequential(\n",
       "        (0): Conv2d(64, 128, kernel_size=(1, 1), stride=(2, 2), bias=False)\n",
       "        (1): BatchNorm2d(128, eps=1e-05, momentum=0.1, affine=True, track_running_stats=True)\n",
       "      )\n",
       "    )\n",
       "    (1): BasicBlock(\n",
       "      (conv1): Conv2d(128, 128, kernel_size=(3, 3), stride=(1, 1), padding=(1, 1), bias=False)\n",
       "      (bn1): BatchNorm2d(128, eps=1e-05, momentum=0.1, affine=True, track_running_stats=True)\n",
       "      (relu): ReLU(inplace=True)\n",
       "      (conv2): Conv2d(128, 128, kernel_size=(3, 3), stride=(1, 1), padding=(1, 1), bias=False)\n",
       "      (bn2): BatchNorm2d(128, eps=1e-05, momentum=0.1, affine=True, track_running_stats=True)\n",
       "    )\n",
       "  )\n",
       "  (layer3): Sequential(\n",
       "    (0): BasicBlock(\n",
       "      (conv1): Conv2d(128, 256, kernel_size=(3, 3), stride=(2, 2), padding=(1, 1), bias=False)\n",
       "      (bn1): BatchNorm2d(256, eps=1e-05, momentum=0.1, affine=True, track_running_stats=True)\n",
       "      (relu): ReLU(inplace=True)\n",
       "      (conv2): Conv2d(256, 256, kernel_size=(3, 3), stride=(1, 1), padding=(1, 1), bias=False)\n",
       "      (bn2): BatchNorm2d(256, eps=1e-05, momentum=0.1, affine=True, track_running_stats=True)\n",
       "      (downsample): Sequential(\n",
       "        (0): Conv2d(128, 256, kernel_size=(1, 1), stride=(2, 2), bias=False)\n",
       "        (1): BatchNorm2d(256, eps=1e-05, momentum=0.1, affine=True, track_running_stats=True)\n",
       "      )\n",
       "    )\n",
       "    (1): BasicBlock(\n",
       "      (conv1): Conv2d(256, 256, kernel_size=(3, 3), stride=(1, 1), padding=(1, 1), bias=False)\n",
       "      (bn1): BatchNorm2d(256, eps=1e-05, momentum=0.1, affine=True, track_running_stats=True)\n",
       "      (relu): ReLU(inplace=True)\n",
       "      (conv2): Conv2d(256, 256, kernel_size=(3, 3), stride=(1, 1), padding=(1, 1), bias=False)\n",
       "      (bn2): BatchNorm2d(256, eps=1e-05, momentum=0.1, affine=True, track_running_stats=True)\n",
       "    )\n",
       "  )\n",
       "  (layer4): Sequential(\n",
       "    (0): BasicBlock(\n",
       "      (conv1): Conv2d(256, 512, kernel_size=(3, 3), stride=(2, 2), padding=(1, 1), bias=False)\n",
       "      (bn1): BatchNorm2d(512, eps=1e-05, momentum=0.1, affine=True, track_running_stats=True)\n",
       "      (relu): ReLU(inplace=True)\n",
       "      (conv2): Conv2d(512, 512, kernel_size=(3, 3), stride=(1, 1), padding=(1, 1), bias=False)\n",
       "      (bn2): BatchNorm2d(512, eps=1e-05, momentum=0.1, affine=True, track_running_stats=True)\n",
       "      (downsample): Sequential(\n",
       "        (0): Conv2d(256, 512, kernel_size=(1, 1), stride=(2, 2), bias=False)\n",
       "        (1): BatchNorm2d(512, eps=1e-05, momentum=0.1, affine=True, track_running_stats=True)\n",
       "      )\n",
       "    )\n",
       "    (1): BasicBlock(\n",
       "      (conv1): Conv2d(512, 512, kernel_size=(3, 3), stride=(1, 1), padding=(1, 1), bias=False)\n",
       "      (bn1): BatchNorm2d(512, eps=1e-05, momentum=0.1, affine=True, track_running_stats=True)\n",
       "      (relu): ReLU(inplace=True)\n",
       "      (conv2): Conv2d(512, 512, kernel_size=(3, 3), stride=(1, 1), padding=(1, 1), bias=False)\n",
       "      (bn2): BatchNorm2d(512, eps=1e-05, momentum=0.1, affine=True, track_running_stats=True)\n",
       "    )\n",
       "  )\n",
       "  (avgpool): AdaptiveAvgPool2d(output_size=(1, 1))\n",
       "  (fc): Linear(in_features=512, out_features=2, bias=True)\n",
       ")"
      ]
     },
     "execution_count": 2,
     "metadata": {},
     "output_type": "execute_result"
    }
   ],
   "source": [
    "\n",
    "model = models.resnet18(pretrained=False)\n",
    "model.fc = nn.Linear(model.fc.in_features, 2)\n",
    "model = model.to(device)\n",
    "\n",
    "model = torch.load('res/resnet18_watermark_classifier_full_20.pth', map_location=device)\n",
    "model = model.to(device)\n",
    "model.eval()"
   ]
  },
  {
   "cell_type": "code",
   "execution_count": 3,
   "metadata": {},
   "outputs": [],
   "source": [
    "transform = transforms.Compose([\n",
    "    #transforms.Resize((224, 224)),\n",
    "    transforms.ToTensor(),\n",
    "    transforms.Normalize(mean=[0.485, 0.456, 0.406],\n",
    "                         std=[0.229, 0.224, 0.225])\n",
    "])"
   ]
  },
  {
   "cell_type": "code",
   "execution_count": 4,
   "metadata": {},
   "outputs": [],
   "source": [
    "def predict_image(image_path):\n",
    "    image = Image.open(image_path).convert(\"RGB\")\n",
    "    image_tensor = transform(image).unsqueeze(0).to(device)\n",
    "\n",
    "    with torch.no_grad():\n",
    "        output = model(image_tensor)\n",
    "        pred = output.argmax(dim=1).item()\n",
    "    \n",
    "    label_map = {0: \"Original\", 1: \"Watermarked\"}\n",
    "    return label_map[pred]\n",
    "\n"
   ]
  },
  {
   "cell_type": "code",
   "execution_count": 5,
   "metadata": {},
   "outputs": [
    {
     "name": "stdout",
     "output_type": "stream",
     "text": [
      "Prediction: Original\n",
      "Prediction: Watermarked\n"
     ]
    }
   ],
   "source": [
    "original_path = \"/work/forgery/Data/StableSignature/original/img_0001.png\"\n",
    "result = predict_image(original_path)\n",
    "print(f\"Prediction: {result}\")\n",
    "\n",
    "watermarked_path = \"/work/forgery/Data/StableSignature/watermarked/img_0001.png\"\n",
    "result = predict_image(watermarked_path)\n",
    "print(f\"Prediction: {result}\")"
   ]
  },
  {
   "cell_type": "markdown",
   "metadata": {},
   "source": [
    "### show the difference between original and watermark image in the Classifier view"
   ]
  },
  {
   "cell_type": "code",
   "execution_count": 6,
   "metadata": {},
   "outputs": [],
   "source": [
    "class ResNetFeatureExtractor(nn.Module):\n",
    "    def __init__(self, model):\n",
    "        super().__init__()\n",
    "        # 去掉最后的分类层，只保留 feature extractor 部分\n",
    "        self.features = nn.Sequential(*list(model.children())[:-1])  # 去掉 fc 层\n",
    "\n",
    "    def forward(self, x):\n",
    "        x = self.features(x)  # [B, 512, 1, 1]\n",
    "        return x.view(x.size(0), -1)  # flatten to [B, 512]"
   ]
  },
  {
   "cell_type": "code",
   "execution_count": 7,
   "metadata": {},
   "outputs": [],
   "source": [
    "feature_extractor = ResNetFeatureExtractor(model).to(device)\n",
    "feature_extractor.eval()\n",
    "def compare_resnet_feature_distance(img1, img2):\n",
    "    img1_tensor = transform(img1).unsqueeze(0).to(device)\n",
    "    img2_tensor = transform(img2).unsqueeze(0).to(device)\n",
    "\n",
    "    with torch.no_grad():\n",
    "        feat1 = feature_extractor(img1_tensor)\n",
    "        feat2 = feature_extractor(img2_tensor)\n",
    "\n",
    "    cosine_sim = F.cosine_similarity(feat1, feat2).item()\n",
    "    l2_dist = torch.norm(feat1 - feat2).item()\n",
    "\n",
    "    print(f\"[ResNet18] Cosine similarity: {cosine_sim:.4f}\")\n",
    "    print(f\"[ResNet18] L2 distance: {l2_dist:.4f}\")\n",
    "    return cosine_sim, l2_dist"
   ]
  },
  {
   "cell_type": "code",
   "execution_count": 8,
   "metadata": {},
   "outputs": [
    {
     "name": "stdout",
     "output_type": "stream",
     "text": [
      "[ResNet18] Cosine similarity: 0.0462\n",
      "[ResNet18] L2 distance: 53.9960\n",
      "\n",
      "[ResNet18] Cosine similarity: 0.9807\n",
      "[ResNet18] L2 distance: 6.9908\n",
      "\n",
      "[ResNet18] Cosine similarity: 0.8652\n",
      "[ResNet18] L2 distance: 31.6418\n",
      "\n"
     ]
    }
   ],
   "source": [
    "img1 = Image.open(original_path).convert(\"RGB\")\n",
    "img2 = Image.open(watermarked_path).convert(\"RGB\")\n",
    "\n",
    "\n",
    "img3 = Image.open(\"/work/forgery/Data/StableSignature/original/img_0002.png\").convert(\"RGB\")\n",
    "img4 = Image.open(\"/work/forgery/Data/StableSignature/watermarked/img_0002.png\").convert(\"RGB\")\n",
    "compare_resnet_feature_distance(img1, img2)\n",
    "\n",
    "print()\n",
    "compare_resnet_feature_distance(img1, img3)\n",
    "\n",
    "print()\n",
    "\n",
    "compare_resnet_feature_distance(img2, img4)\n",
    "print()"
   ]
  },
  {
   "cell_type": "code",
   "execution_count": 9,
   "metadata": {},
   "outputs": [],
   "source": [
    "def denormalize(t):\n",
    "    mean = torch.tensor([0.485, 0.456, 0.406], device=t.device).view(1, 3, 1, 1)\n",
    "    std = torch.tensor([0.229, 0.224, 0.225], device=t.device).view(1, 3, 1, 1)\n",
    "    return torch.clamp(t * std + mean, 0, 1)"
   ]
  },
  {
   "cell_type": "code",
   "execution_count": 14,
   "metadata": {},
   "outputs": [
    {
     "name": "stdout",
     "output_type": "stream",
     "text": [
      "iter:0    loss:14.6611  Detect: Original watermark_bit_wise_acc:0.458333\n",
      "iter:1    loss:14.4232  Detect: Original watermark_bit_wise_acc:0.458333\n",
      "iter:2    loss:14.1332  Detect: Original watermark_bit_wise_acc:0.458333\n",
      "iter:3    loss:13.8385  Detect: Original watermark_bit_wise_acc:0.458333\n",
      "iter:4    loss:13.5635  Detect: Original watermark_bit_wise_acc:0.458333\n",
      "iter:5    loss:13.2887  Detect: Original watermark_bit_wise_acc:0.458333\n",
      "iter:6    loss:13.0053  Detect: Original watermark_bit_wise_acc:0.458333\n",
      "iter:7    loss:12.7285  Detect: Original watermark_bit_wise_acc:0.458333\n",
      "iter:8    loss:12.4510  Detect: Original watermark_bit_wise_acc:0.458333\n",
      "iter:9    loss:12.1859  Detect: Original watermark_bit_wise_acc:0.458333\n",
      "iter:10   loss:11.9366  Detect: Original watermark_bit_wise_acc:0.458333\n",
      "iter:11   loss:11.6844  Detect: Original watermark_bit_wise_acc:0.458333\n",
      "iter:12   loss:11.4327  Detect: Original watermark_bit_wise_acc:0.458333\n",
      "iter:13   loss:11.1812  Detect: Original watermark_bit_wise_acc:0.458333\n",
      "iter:14   loss:10.9305  Detect: Original watermark_bit_wise_acc:0.458333\n",
      "iter:15   loss:10.6838  Detect: Original watermark_bit_wise_acc:0.458333\n",
      "iter:16   loss:10.4399  Detect: Original watermark_bit_wise_acc:0.458333\n",
      "iter:17   loss:10.1975  Detect: Original watermark_bit_wise_acc:0.458333\n",
      "iter:18   loss:9.9513  Detect: Original watermark_bit_wise_acc:0.458333\n",
      "iter:19   loss:9.6915  Detect: Original watermark_bit_wise_acc:0.458333\n",
      "iter:20   loss:9.4122  Detect: Original watermark_bit_wise_acc:0.458333\n",
      "iter:21   loss:9.1111  Detect: Original watermark_bit_wise_acc:0.458333\n",
      "iter:22   loss:8.8014  Detect: Original watermark_bit_wise_acc:0.458333\n",
      "iter:23   loss:8.4925  Detect: Original watermark_bit_wise_acc:0.458333\n",
      "iter:24   loss:8.1776  Detect: Original watermark_bit_wise_acc:0.458333\n",
      "iter:25   loss:7.8536  Detect: Original watermark_bit_wise_acc:0.458333\n",
      "iter:26   loss:7.5243  Detect: Original watermark_bit_wise_acc:0.458333\n",
      "iter:27   loss:7.1868  Detect: Original watermark_bit_wise_acc:0.458333\n",
      "iter:28   loss:6.8545  Detect: Original watermark_bit_wise_acc:0.458333\n",
      "iter:29   loss:6.5196  Detect: Original watermark_bit_wise_acc:0.458333\n",
      "iter:30   loss:6.1919  Detect: Original watermark_bit_wise_acc:0.458333\n",
      "iter:31   loss:5.8691  Detect: Original watermark_bit_wise_acc:0.458333\n",
      "iter:32   loss:5.5587  Detect: Original watermark_bit_wise_acc:0.458333\n",
      "iter:33   loss:5.2595  Detect: Original watermark_bit_wise_acc:0.458333\n",
      "iter:34   loss:4.9674  Detect: Original watermark_bit_wise_acc:0.458333\n",
      "iter:35   loss:4.6810  Detect: Original watermark_bit_wise_acc:0.458333\n",
      "iter:36   loss:4.3967  Detect: Original watermark_bit_wise_acc:0.458333\n",
      "iter:37   loss:4.1178  Detect: Original watermark_bit_wise_acc:0.458333\n",
      "iter:38   loss:3.8432  Detect: Original watermark_bit_wise_acc:0.458333\n",
      "iter:39   loss:3.5707  Detect: Original watermark_bit_wise_acc:0.458333\n",
      "iter:40   loss:3.3033  Detect: Original watermark_bit_wise_acc:0.458333\n",
      "iter:41   loss:3.0377  Detect: Original watermark_bit_wise_acc:0.458333\n",
      "iter:42   loss:2.7728  Detect: Original watermark_bit_wise_acc:0.458333\n",
      "iter:43   loss:2.5051  Detect: Original watermark_bit_wise_acc:0.458333\n",
      "iter:44   loss:2.2237  Detect: Original watermark_bit_wise_acc:0.458333\n",
      "iter:45   loss:1.9271  Detect: Original watermark_bit_wise_acc:0.458333\n",
      "iter:46   loss:1.6348  Detect: Original watermark_bit_wise_acc:0.458333\n",
      "iter:47   loss:1.3671  Detect: Original watermark_bit_wise_acc:0.458333\n",
      "iter:48   loss:1.1423  Detect: Original watermark_bit_wise_acc:0.458333\n",
      "iter:49   loss:0.9572  Detect: Original watermark_bit_wise_acc:0.458333\n",
      "iter:50   loss:0.8073  Detect: Original watermark_bit_wise_acc:0.458333\n",
      "iter:51   loss:0.6873  Detect: Watermarked watermark_bit_wise_acc:0.458333\n",
      "iter:52   loss:0.5901  Detect: Watermarked watermark_bit_wise_acc:0.458333\n",
      "iter:53   loss:0.5131  Detect: Watermarked watermark_bit_wise_acc:0.458333\n",
      "iter:54   loss:0.4502  Detect: Watermarked watermark_bit_wise_acc:0.458333\n",
      "iter:55   loss:0.3986  Detect: Watermarked watermark_bit_wise_acc:0.458333\n",
      "iter:56   loss:0.3559  Detect: Watermarked watermark_bit_wise_acc:0.458333\n",
      "iter:57   loss:0.3206  Detect: Watermarked watermark_bit_wise_acc:0.458333\n",
      "iter:58   loss:0.2909  Detect: Watermarked watermark_bit_wise_acc:0.458333\n",
      "iter:59   loss:0.2653  Detect: Watermarked watermark_bit_wise_acc:0.458333\n",
      "iter:60   loss:0.2435  Detect: Watermarked watermark_bit_wise_acc:0.458333\n",
      "iter:61   loss:0.2246  Detect: Watermarked watermark_bit_wise_acc:0.458333\n",
      "iter:62   loss:0.2084  Detect: Watermarked watermark_bit_wise_acc:0.458333\n",
      "iter:63   loss:0.1944  Detect: Watermarked watermark_bit_wise_acc:0.458333\n",
      "iter:64   loss:0.1821  Detect: Watermarked watermark_bit_wise_acc:0.458333\n",
      "iter:65   loss:0.1711  Detect: Watermarked watermark_bit_wise_acc:0.458333\n",
      "iter:66   loss:0.1614  Detect: Watermarked watermark_bit_wise_acc:0.458333\n",
      "iter:67   loss:0.1526  Detect: Watermarked watermark_bit_wise_acc:0.458333\n",
      "iter:68   loss:0.1447  Detect: Watermarked watermark_bit_wise_acc:0.458333\n",
      "iter:69   loss:0.1376  Detect: Watermarked watermark_bit_wise_acc:0.458333\n",
      "iter:70   loss:0.1311  Detect: Watermarked watermark_bit_wise_acc:0.458333\n",
      "iter:71   loss:0.1251  Detect: Watermarked watermark_bit_wise_acc:0.458333\n",
      "iter:72   loss:0.1197  Detect: Watermarked watermark_bit_wise_acc:0.458333\n",
      "iter:73   loss:0.1147  Detect: Watermarked watermark_bit_wise_acc:0.458333\n",
      "iter:74   loss:0.1100  Detect: Watermarked watermark_bit_wise_acc:0.458333\n",
      "iter:75   loss:0.1057  Detect: Watermarked watermark_bit_wise_acc:0.458333\n",
      "iter:76   loss:0.1018  Detect: Watermarked watermark_bit_wise_acc:0.458333\n",
      "iter:77   loss:0.0981  Detect: Watermarked watermark_bit_wise_acc:0.458333\n",
      "iter:78   loss:0.0946  Detect: Watermarked watermark_bit_wise_acc:0.458333\n",
      "iter:79   loss:0.0914  Detect: Watermarked watermark_bit_wise_acc:0.458333\n",
      "iter:80   loss:0.0883  Detect: Watermarked watermark_bit_wise_acc:0.458333\n",
      "iter:81   loss:0.0855  Detect: Watermarked watermark_bit_wise_acc:0.458333\n",
      "iter:82   loss:0.0829  Detect: Watermarked watermark_bit_wise_acc:0.458333\n",
      "iter:83   loss:0.0804  Detect: Watermarked watermark_bit_wise_acc:0.458333\n",
      "iter:84   loss:0.0780  Detect: Watermarked watermark_bit_wise_acc:0.458333\n",
      "iter:85   loss:0.0758  Detect: Watermarked watermark_bit_wise_acc:0.458333\n",
      "iter:86   loss:0.0737  Detect: Watermarked watermark_bit_wise_acc:0.458333\n",
      "iter:87   loss:0.0717  Detect: Watermarked watermark_bit_wise_acc:0.458333\n",
      "iter:88   loss:0.0698  Detect: Watermarked watermark_bit_wise_acc:0.458333\n",
      "iter:89   loss:0.0680  Detect: Watermarked watermark_bit_wise_acc:0.458333\n",
      "iter:90   loss:0.0663  Detect: Watermarked watermark_bit_wise_acc:0.458333\n",
      "iter:91   loss:0.0647  Detect: Watermarked watermark_bit_wise_acc:0.458333\n",
      "iter:92   loss:0.0632  Detect: Watermarked watermark_bit_wise_acc:0.458333\n",
      "iter:93   loss:0.0617  Detect: Watermarked watermark_bit_wise_acc:0.458333\n",
      "iter:94   loss:0.0603  Detect: Watermarked watermark_bit_wise_acc:0.458333\n",
      "iter:95   loss:0.0589  Detect: Watermarked watermark_bit_wise_acc:0.458333\n",
      "iter:96   loss:0.0577  Detect: Watermarked watermark_bit_wise_acc:0.458333\n",
      "iter:97   loss:0.0564  Detect: Watermarked watermark_bit_wise_acc:0.458333\n",
      "iter:98   loss:0.0553  Detect: Watermarked watermark_bit_wise_acc:0.458333\n",
      "iter:99   loss:0.0541  Detect: Watermarked watermark_bit_wise_acc:0.458333\n",
      "🖼️ forged_img.png saved.\n",
      "🖼️ original_img.png saved.\n"
     ]
    }
   ],
   "source": [
    "\n",
    "img1_tensor = transform(img1).unsqueeze(0).to(device)\n",
    "img2_tensor = transform(img2).unsqueeze(0).to(device)\n",
    "msg_extractor = torch.jit.load(\"models/dec_48b_whit.torchscript.pt\").to(\"cuda\")\n",
    "key = '111010110101000001010111010011010100010000100111' \n",
    "\n",
    "args = SimpleNamespace(\n",
    "    r=2,\n",
    "    lr=0.01,\n",
    "    epsilon=0.01,\n",
    "    iteration=100\n",
    ")\n",
    "\n",
    "criterion  = nn.CrossEntropyLoss()\n",
    "bit_acc_groundtruth, bound, success,adv_img,original,acc_list,diff_list =Forgery_no_box_classifier(img1_tensor, key, criterion, msg_extractor,model,args)\n",
    "\n",
    "save_image(denormalize(adv_img.cpu()), \"forged_img.png\")\n",
    "print(\"🖼️ forged_img.png saved.\")\n",
    "\n",
    "save_image(denormalize(original.cpu()), \"original_img.png\")\n",
    "print(\"🖼️ original_img.png saved.\")"
   ]
  },
  {
   "cell_type": "code",
   "execution_count": null,
   "metadata": {},
   "outputs": [
    {
     "data": {
      "image/png": "[encoded data removed]",
      "text/plain": [
       "<Figure size 600x400 with 1 Axes>"
      ]
     },
     "metadata": {},
     "output_type": "display_data"
    },
    {
     "data": {
      "image/png": "[encoded data removed]",
      "text/plain": [
       "<Figure size 700x300 with 1 Axes>"
      ]
     },
     "metadata": {},
     "output_type": "display_data"
    },
    {
     "ename": "",
     "evalue": "",
     "output_type": "error",
     "traceback": [
      "\u001b[1;31mThe Kernel crashed while executing code in the current cell or a previous cell. \n",
      "\u001b[1;31mPlease review the code in the cell(s) to identify a possible cause of the failure. \n",
      "\u001b[1;31mClick <a href='https://aka.ms/vscodeJupyterKernelCrash'>here</a> for more info. \n",
      "\u001b[1;31mView Jupyter <a href='command:jupyter.viewOutput'>log</a> for further details."
     ]
    }
   ],
   "source": [
    "import matplotlib.pyplot as plt\n",
    "# Feature Loss \n",
    "plt.figure(figsize=(6, 4))\n",
    "plt.plot(diff_list, label=\"CrossEntropyLoss\", color='orange', linewidth=2)\n",
    "plt.xlabel(\"Iteration\")\n",
    "plt.ylabel(\"Loss\")\n",
    "plt.title(\"Loss over Iterations\")\n",
    "plt.grid(True)\n",
    "plt.legend()\n",
    "plt.show()\n",
    "\n",
    "plt.figure(figsize=(7, 3))\n",
    "plt.plot(acc_list, 'o-', label=\"Predicted Label\", markersize=3, alpha=0.7)\n",
    "\n",
    "plt.xlabel(\"Iteration\", fontsize=11)\n",
    "plt.ylabel(\"Model Prediction\", fontsize=11)\n",
    "plt.title(\"Predicted Label per Iteration\", fontsize=13)\n",
    "\n",
    "plt.grid(True, linestyle='--', linewidth=0.5, alpha=0.7)\n",
    "plt.legend()\n",
    "plt.ylim(-0.05, 1.05)\n",
    "plt.yticks([0, 1], [\"No Watermark\", \"Watermark\"], fontsize=10)\n",
    "plt.xticks(fontsize=10)\n",
    "\n",
    "plt.subplots_adjust(left=0.15, right=0.95)\n",
    "plt.tight_layout()\n",
    "plt.show()\n",
    "\n",
    "\n"
   ]
  },
  {
   "cell_type": "code",
   "execution_count": 12,
   "metadata": {},
   "outputs": [
    {
     "data": {
      "text/plain": [
       "0.45833333333333337"
      ]
     },
     "execution_count": 12,
     "metadata": {},
     "output_type": "execute_result"
    }
   ],
   "source": [
    "from stable_signature_util import *\n",
    "orig_path = \"forged_img.png\"\n",
    "to_tensor = transforms.Compose([\n",
    "    transforms.ToTensor(),  \n",
    "    transforms.Normalize(mean=[0.485, 0.456, 0.406],std=[0.229, 0.224, 0.225]),\n",
    "])\n",
    "\n",
    "img = to_tensor(Image.open(orig_path)).unsqueeze(0).float()\n",
    "mes = watermark_decoder(msg_extractor,img)\n",
    "computer_acc(mes,key)"
   ]
  },
  {
   "cell_type": "code",
   "execution_count": 13,
   "metadata": {},
   "outputs": [
    {
     "name": "stdout",
     "output_type": "stream",
     "text": [
      "Prediction: Original\n",
      "Prediction: Watermarked\n"
     ]
    }
   ],
   "source": [
    "original_path = \"original_img.png\"\n",
    "result = predict_image(original_path)\n",
    "print(f\"Prediction: {result}\")\n",
    "\n",
    "forged_path = \"forged_img.png\"\n",
    "result = predict_image(watermarked_path)\n",
    "print(f\"Prediction: {result}\")"
   ]
  }
 ],
 "metadata": {
  "kernelspec": {
   "display_name": "forgery-watermark",
   "language": "python",
   "name": "python3"
  },
  "language_info": {
   "codemirror_mode": {
    "name": "ipython",
    "version": 3
   },
   "file_extension": ".py",
   "mimetype": "text/x-python",
   "name": "python",
   "nbconvert_exporter": "python",
   "pygments_lexer": "ipython3",
   "version": "3.8.19"
  }
 },
 "nbformat": 4,
 "nbformat_minor": 2
}
